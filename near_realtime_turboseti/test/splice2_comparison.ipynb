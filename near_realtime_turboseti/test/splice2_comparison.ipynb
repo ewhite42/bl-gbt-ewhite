{
 "cells": [
  {
   "cell_type": "code",
   "execution_count": 39,
   "metadata": {},
   "outputs": [
    {
     "name": "stdout",
     "output_type": "stream",
     "text": [
      "blimpy.io.base_reader WARNING  Setting data limit != 1GB, please handle with care!\n",
      "blimpy.io.base_reader WARNING  Setting data limit != 1GB, please handle with care!\n",
      "[0. 0. 0. ... 0. 0. 0.]\n"
     ]
    },
    {
     "data": {
      "text/plain": [
       "'for i in range(16):\\n    for j in range(end_ind):\\n        if (unspliced_data[i,0,j]/spliced_data[i, 0,j]) != 1.0:\\n            print(\"{0}\\t{1}\\t{2}\".format(unspliced_data[0,0,i], spliced_data[0,0,i], unspliced_data[0,0,i]/spliced_data[0,0,i]))'"
      ]
     },
     "execution_count": 39,
     "metadata": {},
     "output_type": "execute_result"
    },
    {
     "data": {
      "image/png": "[encoded data removed]",
      "text/plain": [
       "<Figure size 432x288 with 1 Axes>"
      ]
     },
     "metadata": {
      "needs_background": "light"
     },
     "output_type": "display_data"
    }
   ],
   "source": [
    "#the purpose of this notebook is to compare the data in an \n",
    "#unspliced filterbank with one that has had splice2 run on it\n",
    "#to determine if splice2 is introducing small differences due \n",
    "#to bit depth issues\n",
    "\n",
    "#Ellie White 5 Feb. 2021\n",
    "\n",
    "import numpy as np\n",
    "import pylab as plt\n",
    "import pandas as pd\n",
    "from blimpy import Waterfall\n",
    "from astropy.io import ascii\n",
    "\n",
    "unspliced = Waterfall('/home/ewhite/splice2_test/blc00_guppi_59046_80036_DIAG_VOYAGER-1_0011.rawspec.0000.fil', max_load=4.1)\n",
    "unspliced_data = unspliced.data\n",
    "\n",
    "spliced = Waterfall('/home/ewhite/splice2_test/spliced_guppi_59046_80036_DIAG_VOYAGER-1_0011_2nodes.rawspec.0000.fil', max_load=8.1)\n",
    "end_ind = unspliced_data.shape[2]\n",
    "spliced_data = spliced.data[:,:,0:end_ind]\n",
    "\n",
    "unspliced_dat_array = np.concatenate((unspliced_data[0,0], unspliced_data[1,0],unspliced_data[2,0], unspliced_data[3,0], \\\n",
    "                                      unspliced_data[4,0], unspliced_data[5,0], unspliced_data[6,0], unspliced_data[7,0], \\\n",
    "                                      unspliced_data[8,0], unspliced_data[9,0], unspliced_data[10,0], unspliced_data[11,0], \\\n",
    "                                      unspliced_data[12,0], unspliced_data[13,0], unspliced_data[14,0], unspliced_data[15,0]))\n",
    "\n",
    "spliced_dat_array = np.concatenate((spliced_data[0,0], spliced_data[1,0], spliced_data[2,0], spliced_data[3,0], \\\n",
    "                                    spliced_data[4,0], spliced_data[5,0], spliced_data[6,0], spliced_data[7,0], \\\n",
    "                                    spliced_data[8,0], spliced_data[9,0], spliced_data[10,0], spliced_data[11,0], \\\n",
    "                                    spliced_data[12,0], spliced_data[13,0], spliced_data[14,0], spliced_data[15,0]))\n",
    "\n",
    "print(unspliced_dat_array - spliced_dat_array)\n",
    "\n",
    "plt.hist(unspliced_dat_array - spliced_dat_array, bins=500)\n",
    "plt.savefig('/home/ewhite/voyager_histograms/uf-sf.png', dpi=300)\n",
    "plt.show()\n",
    "\n",
    "#print(unspliced_data[0,0])\n",
    "\n",
    "#print(\"Unspliced\\tSpliced\\tU/S\")\n",
    "\n",
    "'''for i in range(16):\n",
    "    for j in range(end_ind):\n",
    "        if (unspliced_data[i,0,j]/spliced_data[i, 0,j]) != 1.0:\n",
    "            print(\"{0}\\t{1}\\t{2}\".format(unspliced_data[0,0,i], spliced_data[0,0,i], unspliced_data[0,0,i]/spliced_data[0,0,i]))'''"
   ]
  },
  {
   "cell_type": "code",
   "execution_count": null,
   "metadata": {},
   "outputs": [],
   "source": [
    "import pylab as plt\n",
    "import pandas as pd\n",
    "from astropy.io import ascii\n",
    "\n",
    "#read in the data from the unspliced dat file\n",
    "ufud = ascii.read('/home/ewhite/splice2_test/blc00_guppi_59046_80036_DIAG_VOYAGER-1_0011.rawspec.0000.dat')\n",
    "\n",
    "ufud = ufud.to_pandas()\n",
    "ufud = ufud.apply(pd.to_numeric)\n",
    "\n",
    "ufud.columns = ['Top_Hit_#', 'Drift_Rate', 'SNR', 'Uncorrected_Frequency', 'Corrected_Frequency', 'Index', \\\n",
    "                'freq_start', 'freq_end', 'SEFD', 'SEFD_freq', 'Coarse_Channel_Number', 'Full_number_of_hits']\n",
    "\n",
    "ufud.sort_values(by='Uncorrected_Frequency', ascending=False, inplace=True)\n",
    "pd.set_option('display.max_rows', None)\n",
    "\n",
    "#read in the data from the spliced dat file\n",
    "sfd = ascii.read('/home/ewhite/splice2_test/spliced_guppi_59046_80036_DIAG_VOYAGER-1_0011_2nodes.rawspec.0000.dat')\n",
    "#sfd = ascii.read('/home/ewhite/splice2_test/newfile/blc00_guppi_59046_80036_DIAG_VOYAGER-1_0011.rawspec.0000.dat')\n",
    "sfd = sfd.to_pandas()\n",
    "sfd = sfd.apply(pd.to_numeric)\n",
    "sfd.columns = ['Top_Hit_#', 'Drift_Rate', 'SNR', 'Uncorrected_Frequency', 'Corrected_Frequency', 'Index', \\\n",
    "               'freq_start', 'freq_end', 'SEFD', 'SEFD_freq', 'Coarse_Channel_Number', 'Full_number_of_hits']\n",
    "\n",
    "sfd.sort_values('Uncorrected_Frequency', ascending=False, inplace=True)\n",
    "#print(sfd['Corrected_Frequency'].size)\n",
    "\n",
    "ufud_ind = []\n",
    "sfd_ind = []\n",
    "\n",
    "for i in range(ufud['Uncorrected_Frequency'].size):\n",
    "    ufud_ind.append(ufud.index.values[i])\n",
    "    sfd_ind.append(sfd.index.values[i])\n",
    "\n",
    "outfile = open('ufud1-vs-ufud2.txt', 'w')\n",
    "outfile.write(\"UFUD\\t\\t\\tSFD\\t\\t\\tUFUD/SFD\\n\")\n",
    "print(\"UFUD\\t\\t\\tSFD\\t\\t\\tUFUD/SFD\\n\")\n",
    "\n",
    "for j in range(ufud['Uncorrected_Frequency'].size):\n",
    "    print(\"{0}\\t\\t{1}\\t\\t{2}\".format(ufud['SNR'][ufud_ind[j]], sfd['SNR'][sfd_ind[j]], ufud['SNR'][ufud_ind[j]]-sfd['SNR'][sfd_ind[j]]))\n",
    "    outfile.write(\"{0}\\t\\t{1}\\t\\t{2}\\n\".format(ufud['SNR'][ufud_ind[j]], sfd['SNR'][sfd_ind[j]], ufud['SNR'][ufud_ind[j]]/sfd['SNR'][sfd_ind[j]]))\n",
    "    \n",
    "outfile.close()\n",
    "\n",
    "plt.hist(ufud['SNR']-sfd['SNR'], bins=177)\n",
    "plt.savefig('/home/ewhite/voyager_histograms/ufud-sfd.png', dpi=300)\n",
    "plt.show()\n",
    "\n",
    "#print(\"{0}, {1}\".format(ufud['Corrected_Frequency'][0], ufud['Corrected_Frequency'][176]))"
   ]
  },
  {
   "cell_type": "code",
   "execution_count": null,
   "metadata": {},
   "outputs": [],
   "source": []
  },
  {
   "cell_type": "code",
   "execution_count": null,
   "metadata": {},
   "outputs": [],
   "source": []
  }
 ],
 "metadata": {
  "kernelspec": {
   "display_name": "Python 3",
   "language": "python",
   "name": "python3"
  },
  "language_info": {
   "codemirror_mode": {
    "name": "ipython",
    "version": 3
   },
   "file_extension": ".py",
   "mimetype": "text/x-python",
   "name": "python",
   "nbconvert_exporter": "python",
   "pygments_lexer": "ipython3",
   "version": "3.7.6"
  }
 },
 "nbformat": 4,
 "nbformat_minor": 4
}
